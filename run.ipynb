{
 "cells": [
  {
   "cell_type": "code",
   "execution_count": 63,
   "metadata": {},
   "outputs": [
    {
     "data": {
      "text/html": [
       "<div>\n",
       "<style scoped>\n",
       "    .dataframe tbody tr th:only-of-type {\n",
       "        vertical-align: middle;\n",
       "    }\n",
       "\n",
       "    .dataframe tbody tr th {\n",
       "        vertical-align: top;\n",
       "    }\n",
       "\n",
       "    .dataframe thead th {\n",
       "        text-align: right;\n",
       "    }\n",
       "</style>\n",
       "<table border=\"1\" class=\"dataframe\">\n",
       "  <thead>\n",
       "    <tr style=\"text-align: right;\">\n",
       "      <th></th>\n",
       "      <th>order</th>\n",
       "      <th>id</th>\n",
       "      <th>date</th>\n",
       "      <th>time</th>\n",
       "      <th>title</th>\n",
       "      <th>url</th>\n",
       "      <th>visitCount</th>\n",
       "      <th>typedCount</th>\n",
       "      <th>transition</th>\n",
       "      <th>base_url</th>\n",
       "      <th>date_time</th>\n",
       "      <th>timestamp</th>\n",
       "      <th>time_spent</th>\n",
       "    </tr>\n",
       "  </thead>\n",
       "  <tbody>\n",
       "    <tr>\n",
       "      <th>0</th>\n",
       "      <td>0</td>\n",
       "      <td>34215</td>\n",
       "      <td>12/3/2022</td>\n",
       "      <td>11:05:54</td>\n",
       "      <td>Export Chrome History - Chrome Web Store</td>\n",
       "      <td>https://chrome.google.com/webstore/detail/expo...</td>\n",
       "      <td>1</td>\n",
       "      <td>0</td>\n",
       "      <td>link</td>\n",
       "      <td>chrome.google.com</td>\n",
       "      <td>2022-12-03 11:05:54</td>\n",
       "      <td>1,670,065,554.00</td>\n",
       "      <td>NaN</td>\n",
       "    </tr>\n",
       "    <tr>\n",
       "      <th>1</th>\n",
       "      <td>1</td>\n",
       "      <td>34214</td>\n",
       "      <td>12/3/2022</td>\n",
       "      <td>11:05:46</td>\n",
       "      <td>Export Chrome History - Chrome Web Store</td>\n",
       "      <td>https://chrome.google.com/webstore/detail/expo...</td>\n",
       "      <td>1</td>\n",
       "      <td>0</td>\n",
       "      <td>link</td>\n",
       "      <td>chrome.google.com</td>\n",
       "      <td>2022-12-03 11:05:46</td>\n",
       "      <td>1,670,065,546.00</td>\n",
       "      <td>8.00</td>\n",
       "    </tr>\n",
       "    <tr>\n",
       "      <th>2</th>\n",
       "      <td>2</td>\n",
       "      <td>34213</td>\n",
       "      <td>12/3/2022</td>\n",
       "      <td>11:05:45</td>\n",
       "      <td>download chrome history - Google Search</td>\n",
       "      <td>https://www.google.com/search?q=download+chrom...</td>\n",
       "      <td>2</td>\n",
       "      <td>0</td>\n",
       "      <td>link</td>\n",
       "      <td>www.google.com</td>\n",
       "      <td>2022-12-03 11:05:45</td>\n",
       "      <td>1,670,065,545.00</td>\n",
       "      <td>1.00</td>\n",
       "    </tr>\n",
       "    <tr>\n",
       "      <th>3</th>\n",
       "      <td>3</td>\n",
       "      <td>34213</td>\n",
       "      <td>12/3/2022</td>\n",
       "      <td>11:05:44</td>\n",
       "      <td>download chrome history - Google Search</td>\n",
       "      <td>https://www.google.com/search?q=download+chrom...</td>\n",
       "      <td>2</td>\n",
       "      <td>0</td>\n",
       "      <td>generated</td>\n",
       "      <td>www.google.com</td>\n",
       "      <td>2022-12-03 11:05:44</td>\n",
       "      <td>1,670,065,544.00</td>\n",
       "      <td>1.00</td>\n",
       "    </tr>\n",
       "    <tr>\n",
       "      <th>4</th>\n",
       "      <td>4</td>\n",
       "      <td>34212</td>\n",
       "      <td>12/3/2022</td>\n",
       "      <td>11:03:32</td>\n",
       "      <td>Chrome Browsing History disappeared and not sh...</td>\n",
       "      <td>https://www.thewindowsclub.com/chrome-browsing...</td>\n",
       "      <td>1</td>\n",
       "      <td>0</td>\n",
       "      <td>link</td>\n",
       "      <td>www.thewindowsclub.com</td>\n",
       "      <td>2022-12-03 11:03:32</td>\n",
       "      <td>1,670,065,412.00</td>\n",
       "      <td>132.00</td>\n",
       "    </tr>\n",
       "  </tbody>\n",
       "</table>\n",
       "</div>"
      ],
      "text/plain": [
       "   order     id       date      time  \\\n",
       "0      0  34215  12/3/2022  11:05:54   \n",
       "1      1  34214  12/3/2022  11:05:46   \n",
       "2      2  34213  12/3/2022  11:05:45   \n",
       "3      3  34213  12/3/2022  11:05:44   \n",
       "4      4  34212  12/3/2022  11:03:32   \n",
       "\n",
       "                                               title  \\\n",
       "0           Export Chrome History - Chrome Web Store   \n",
       "1           Export Chrome History - Chrome Web Store   \n",
       "2            download chrome history - Google Search   \n",
       "3            download chrome history - Google Search   \n",
       "4  Chrome Browsing History disappeared and not sh...   \n",
       "\n",
       "                                                 url  visitCount  typedCount  \\\n",
       "0  https://chrome.google.com/webstore/detail/expo...           1           0   \n",
       "1  https://chrome.google.com/webstore/detail/expo...           1           0   \n",
       "2  https://www.google.com/search?q=download+chrom...           2           0   \n",
       "3  https://www.google.com/search?q=download+chrom...           2           0   \n",
       "4  https://www.thewindowsclub.com/chrome-browsing...           1           0   \n",
       "\n",
       "  transition                base_url           date_time        timestamp  \\\n",
       "0       link       chrome.google.com 2022-12-03 11:05:54 1,670,065,554.00   \n",
       "1       link       chrome.google.com 2022-12-03 11:05:46 1,670,065,546.00   \n",
       "2       link          www.google.com 2022-12-03 11:05:45 1,670,065,545.00   \n",
       "3  generated          www.google.com 2022-12-03 11:05:44 1,670,065,544.00   \n",
       "4       link  www.thewindowsclub.com 2022-12-03 11:03:32 1,670,065,412.00   \n",
       "\n",
       "   time_spent  \n",
       "0         NaN  \n",
       "1        8.00  \n",
       "2        1.00  \n",
       "3        1.00  \n",
       "4      132.00  "
      ]
     },
     "execution_count": 63,
     "metadata": {},
     "output_type": "execute_result"
    }
   ],
   "source": [
    "import pandas as pd\n",
    "import numpy as np\n",
    "import matplotlib.pyplot as plt\n",
    "import seaborn as sns\n",
    "\n",
    "SECONDS_PER_MINUTE = 60\n",
    "SECONDS_PER_HOUR = 60 * SECONDS_PER_MINUTE\n",
    "max_inactivity_period = 30 * SECONDS_PER_MINUTE\n",
    "\n",
    "pd.options.display.float_format = '{:,.2f}'.format\n",
    "\n",
    "\n",
    "with open('history.csv') as f:\n",
    "    df = pd.read_csv(f)\n",
    "\n",
    "df[\"base_url\"] = df[\"url\"].apply(lambda x: x.split(\"/\")[2])\n",
    "df[\"date_time\"] = df[\"date\"]+\" \"+ df[\"time\"]\n",
    "df[\"date_time\"] = pd.to_datetime(df[\"date_time\"])\n",
    "df[\"timestamp\"] = df[\"date_time\"].apply(lambda x: x.timestamp())\n",
    "df[\"time_spent\"] = df[\"timestamp\"].shift(1) - df[\"timestamp\"]\n",
    "df[\"time_spent\"] = df[\"time_spent\"].apply(lambda x: min(x, max_inactivity_period))\n",
    "df.head(5)"
   ]
  },
  {
   "cell_type": "code",
   "execution_count": 24,
   "metadata": {},
   "outputs": [
    {
     "data": {
      "text/plain": [
       "(601, 112143)"
      ]
     },
     "execution_count": 24,
     "metadata": {},
     "output_type": "execute_result"
    }
   ],
   "source": [
    "filt = df[\"time_spent\"] == max_inactivity_period\n",
    "len(df[filt]), len(df)"
   ]
  },
  {
   "cell_type": "code",
   "execution_count": 9,
   "metadata": {},
   "outputs": [
    {
     "name": "stdout",
     "output_type": "stream",
     "text": [
      "2022-12-04 23:08:51.905324\n"
     ]
    }
   ],
   "source": [
    "from datetime import datetime\n",
    "print(datetime.now())"
   ]
  },
  {
   "cell_type": "code",
   "execution_count": 103,
   "metadata": {},
   "outputs": [],
   "source": [
    "DAYS = 90\n",
    "\n",
    "df2 = df.groupby(\"base_url\")[\"time_spent\"].sum().reset_index()\n",
    "df2.sort_values(by=\"time_spent\", ascending=False, inplace=True)\n",
    "df2[\"hours_on_site\"] = df2[\"time_spent\"] / SECONDS_PER_HOUR\n",
    "df2[\"hours_on_site_per_day\"] = df2[\"hours_on_site\"] / DAYS\n",
    "\n",
    "df2"
   ]
  },
  {
   "cell_type": "code",
   "execution_count": 65,
   "metadata": {},
   "outputs": [
    {
     "data": {
      "text/plain": [
       "<AxesSubplot: xlabel='log_hours_on_site', ylabel='Count'>"
      ]
     },
     "execution_count": 65,
     "metadata": {},
     "output_type": "execute_result"
    },
    {
     "data": {
      "image/png": "[encoded data removed]",
      "text/plain": [
       "<Figure size 640x480 with 1 Axes>"
      ]
     },
     "metadata": {},
     "output_type": "display_data"
    }
   ],
   "source": [
    "# log scale\n",
    "df2[\"log_hours_on_site\"] = df2[\"hours_on_site\"].apply(lambda x: np.log(x))\n",
    "sns.histplot(df2[\"log_hours_on_site\"], bins=100)\n",
    "# sns.histplot(df2[\"seconds_on_site\"], bins=100)\n",
    "# plt.yscale('log')"
   ]
  },
  {
   "cell_type": "markdown",
   "metadata": {},
   "source": [
    "# What would be cool information to display?\n",
    "\n",
    "1. How many hours per day do I spend on each site?\n",
    "2. Average hours per visit\n",
    "3. Correlation betweeen visits\n",
    "\n",
    "Look into certain \"eras\" where some idea was being explored -- or like the \"theme\" of the day or week\n",
    "\n",
    "Ex . What was I doing in 2018?\n",
    "\n",
    "- more complicated would have to be done with external connection graph?\n",
    "\n",
    "So just discretize and see if there are any spikes in visits for a day\n",
    "\n",
    "so (time_td)/(time_tot) * log(time_total), give a little more weight to sites visited more frequently"
   ]
  },
  {
   "cell_type": "code",
   "execution_count": 104,
   "metadata": {},
   "outputs": [
    {
     "data": {
      "text/html": [
       "<div>\n",
       "<style scoped>\n",
       "    .dataframe tbody tr th:only-of-type {\n",
       "        vertical-align: middle;\n",
       "    }\n",
       "\n",
       "    .dataframe tbody tr th {\n",
       "        vertical-align: top;\n",
       "    }\n",
       "\n",
       "    .dataframe thead th {\n",
       "        text-align: right;\n",
       "    }\n",
       "</style>\n",
       "<table border=\"1\" class=\"dataframe\">\n",
       "  <thead>\n",
       "    <tr style=\"text-align: right;\">\n",
       "      <th></th>\n",
       "      <th>base_url</th>\n",
       "      <th>time_spent</th>\n",
       "      <th>date</th>\n",
       "      <th>hours_today</th>\n",
       "      <th>hours_on_site</th>\n",
       "      <th>hours_pct</th>\n",
       "      <th>weight</th>\n",
       "    </tr>\n",
       "  </thead>\n",
       "  <tbody>\n",
       "    <tr>\n",
       "      <th>0</th>\n",
       "      <td>codeforces.com</td>\n",
       "      <td>1,800.00</td>\n",
       "      <td>12/3/2022</td>\n",
       "      <td>0.50</td>\n",
       "      <td>22.41</td>\n",
       "      <td>0.02</td>\n",
       "      <td>0.07</td>\n",
       "    </tr>\n",
       "    <tr>\n",
       "      <th>1</th>\n",
       "      <td>drive.google.com</td>\n",
       "      <td>3,673.00</td>\n",
       "      <td>12/2/2022</td>\n",
       "      <td>1.02</td>\n",
       "      <td>4.98</td>\n",
       "      <td>0.20</td>\n",
       "      <td>0.33</td>\n",
       "    </tr>\n",
       "    <tr>\n",
       "      <th>2</th>\n",
       "      <td>adventofcode.com</td>\n",
       "      <td>12,765.00</td>\n",
       "      <td>12/1/2022</td>\n",
       "      <td>3.55</td>\n",
       "      <td>4.53</td>\n",
       "      <td>0.78</td>\n",
       "      <td>1.18</td>\n",
       "    </tr>\n",
       "    <tr>\n",
       "      <th>3</th>\n",
       "      <td>www.wolframalpha.com</td>\n",
       "      <td>3,752.00</td>\n",
       "      <td>11/30/2022</td>\n",
       "      <td>1.04</td>\n",
       "      <td>8.48</td>\n",
       "      <td>0.12</td>\n",
       "      <td>0.26</td>\n",
       "    </tr>\n",
       "    <tr>\n",
       "      <th>4</th>\n",
       "      <td>docs.deribit.com</td>\n",
       "      <td>2,387.00</td>\n",
       "      <td>11/29/2022</td>\n",
       "      <td>0.66</td>\n",
       "      <td>2.02</td>\n",
       "      <td>0.33</td>\n",
       "      <td>0.23</td>\n",
       "    </tr>\n",
       "  </tbody>\n",
       "</table>\n",
       "</div>"
      ],
      "text/plain": [
       "               base_url  time_spent        date  hours_today  hours_on_site  \\\n",
       "0        codeforces.com    1,800.00   12/3/2022         0.50          22.41   \n",
       "1      drive.google.com    3,673.00   12/2/2022         1.02           4.98   \n",
       "2      adventofcode.com   12,765.00   12/1/2022         3.55           4.53   \n",
       "3  www.wolframalpha.com    3,752.00  11/30/2022         1.04           8.48   \n",
       "4      docs.deribit.com    2,387.00  11/29/2022         0.66           2.02   \n",
       "\n",
       "   hours_pct  weight  \n",
       "0       0.02    0.07  \n",
       "1       0.20    0.33  \n",
       "2       0.78    1.18  \n",
       "3       0.12    0.26  \n",
       "4       0.33    0.23  "
      ]
     },
     "execution_count": 104,
     "metadata": {},
     "output_type": "execute_result"
    }
   ],
   "source": [
    "# go through all days and see how many hours were spent on each site\n",
    "import warnings\n",
    "warnings.filterwarnings('ignore')\n",
    "\n",
    "ret = pd.DataFrame()\n",
    "for day in df[\"date\"].unique():\n",
    "    df3 = df[df[\"date\"] == day].groupby(\"base_url\")[\"time_spent\"].sum().reset_index()\n",
    "    df3[\"date\"] = day\n",
    "    df3[\"hours_today\"] = df3[\"time_spent\"] / SECONDS_PER_HOUR\n",
    "\n",
    "    # where base_url is equal\n",
    "    df3 = df3.merge(df2[[\"base_url\", \"hours_on_site\"]], on=\"base_url\", how=\"left\")\n",
    "    df3[\"hours_pct\"] = df3[\"hours_today\"] / df3[\"hours_on_site\"]\n",
    "    df3[\"weight\"] = df3[\"hours_pct\"] * np.log(df3[\"hours_on_site\"])\n",
    "\n",
    "    idx_max = df3[\"weight\"].idxmax()\n",
    "    ret = ret.append(df3.loc[idx_max], ignore_index=True)\n",
    "\n",
    "ret.head(5)"
   ]
  },
  {
   "cell_type": "code",
   "execution_count": null,
   "metadata": {},
   "outputs": [],
   "source": []
  }
 ],
 "metadata": {
  "kernelspec": {
   "display_name": "Python 3.10.5 64-bit ('3.10.5')",
   "language": "python",
   "name": "python3"
  },
  "language_info": {
   "codemirror_mode": {
    "name": "ipython",
    "version": 3
   },
   "file_extension": ".py",
   "mimetype": "text/x-python",
   "name": "python",
   "nbconvert_exporter": "python",
   "pygments_lexer": "ipython3",
   "version": "3.10.5"
  },
  "orig_nbformat": 4,
  "vscode": {
   "interpreter": {
    "hash": "fc9c77c413be1157f59ca33c4556f324c4f7cc1dc25b699d2dfaf9731b3f0333"
   }
  }
 },
 "nbformat": 4,
 "nbformat_minor": 2
}
